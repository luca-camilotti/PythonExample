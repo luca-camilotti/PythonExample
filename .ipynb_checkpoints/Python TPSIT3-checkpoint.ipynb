{
 "cells": [
  {
   "cell_type": "markdown",
   "metadata": {},
   "source": [
    "# Introduzione a Python"
   ]
  },
  {
   "cell_type": "markdown",
   "metadata": {},
   "source": [
    "### Tipi di dati"
   ]
  },
  {
   "cell_type": "code",
   "execution_count": 2,
   "metadata": {},
   "outputs": [
    {
     "data": {
      "text/plain": [
       "bool"
      ]
     },
     "execution_count": 2,
     "metadata": {},
     "output_type": "execute_result"
    }
   ],
   "source": [
    "myvar = True\n",
    "type(myvar)"
   ]
  },
  {
   "cell_type": "code",
   "execution_count": 23,
   "metadata": {},
   "outputs": [
    {
     "name": "stdout",
     "output_type": "stream",
     "text": [
      "<class 'int'>\n",
      "<class 'float'>\n",
      "<class 'NoneType'>\n",
      "<class 'str'>\n",
      "<class 'bool'>\n"
     ]
    }
   ],
   "source": [
    "myvar = 5\n",
    "print(type(myvar))\n",
    "myvar = 5.\n",
    "print(type(myvar))\n",
    "myvar = None\n",
    "print(type(myvar))\n",
    "myvar = \"boh\"\n",
    "print(type(myvar))\n",
    "myvar = False\n",
    "print(type(myvar))"
   ]
  },
  {
   "cell_type": "markdown",
   "metadata": {},
   "source": [
    "### Commenti"
   ]
  },
  {
   "cell_type": "code",
   "execution_count": 106,
   "metadata": {},
   "outputs": [
    {
     "data": {
      "text/plain": [
       "' \\nCommento\\nsu\\npiù\\nrighe \\n'"
      ]
     },
     "execution_count": 106,
     "metadata": {},
     "output_type": "execute_result"
    }
   ],
   "source": [
    "# Commento su una singola riga\n",
    "\n",
    "\"\"\" \n",
    "Commento\n",
    "su\n",
    "più\n",
    "righe \n",
    "\"\"\""
   ]
  },
  {
   "cell_type": "markdown",
   "metadata": {},
   "source": [
    "### Stringhe"
   ]
  },
  {
   "cell_type": "code",
   "execution_count": 107,
   "metadata": {},
   "outputs": [
    {
     "name": "stdout",
     "output_type": "stream",
     "text": [
      "pippoppippo\n",
      "plutopluto\n"
     ]
    }
   ],
   "source": [
    "pippo = 'pippoppippo'\n",
    "pluto = \"plutopluto\"\n",
    "print(pippo)\n",
    "print(pluto)"
   ]
  },
  {
   "cell_type": "markdown",
   "metadata": {},
   "source": [
    "#### Slicing di stringhe"
   ]
  },
  {
   "cell_type": "code",
   "execution_count": 5,
   "metadata": {},
   "outputs": [],
   "source": [
    "s=\"Alberto Lorenzini\""
   ]
  },
  {
   "cell_type": "code",
   "execution_count": 6,
   "metadata": {},
   "outputs": [
    {
     "name": "stdout",
     "output_type": "stream",
     "text": [
      "Alb\n"
     ]
    }
   ],
   "source": [
    "print(s[0:3])"
   ]
  },
  {
   "cell_type": "code",
   "execution_count": 7,
   "metadata": {},
   "outputs": [
    {
     "name": "stdout",
     "output_type": "stream",
     "text": [
      "AbroLrni\n"
     ]
    }
   ],
   "source": [
    "print(s[0:-1:2])"
   ]
  },
  {
   "cell_type": "code",
   "execution_count": 8,
   "metadata": {},
   "outputs": [
    {
     "name": "stdout",
     "output_type": "stream",
     "text": [
      "Alberto Lorenzin\n"
     ]
    }
   ],
   "source": [
    "print(s[0:-1])"
   ]
  },
  {
   "cell_type": "code",
   "execution_count": 9,
   "metadata": {},
   "outputs": [
    {
     "name": "stdout",
     "output_type": "stream",
     "text": [
      "orenzini\n"
     ]
    }
   ],
   "source": [
    "print(s[9:])"
   ]
  },
  {
   "cell_type": "code",
   "execution_count": 10,
   "metadata": {},
   "outputs": [
    {
     "name": "stdout",
     "output_type": "stream",
     "text": [
      "Alberto Lorenzi\n"
     ]
    }
   ],
   "source": [
    "print(s[0:-2])"
   ]
  },
  {
   "cell_type": "code",
   "execution_count": 11,
   "metadata": {},
   "outputs": [
    {
     "name": "stdout",
     "output_type": "stream",
     "text": [
      "\n"
     ]
    }
   ],
   "source": [
    "print(s[-1:-3])"
   ]
  },
  {
   "cell_type": "code",
   "execution_count": 12,
   "metadata": {},
   "outputs": [
    {
     "name": "stdout",
     "output_type": "stream",
     "text": [
      "i\n"
     ]
    }
   ],
   "source": [
    "print(s[-1:])"
   ]
  },
  {
   "cell_type": "code",
   "execution_count": 13,
   "metadata": {},
   "outputs": [
    {
     "name": "stdout",
     "output_type": "stream",
     "text": [
      "in\n"
     ]
    }
   ],
   "source": [
    "print(s[-3:-1])"
   ]
  },
  {
   "cell_type": "code",
   "execution_count": 15,
   "metadata": {},
   "outputs": [
    {
     "name": "stdout",
     "output_type": "stream",
     "text": [
      "inizneroL otreblA\n"
     ]
    }
   ],
   "source": [
    "print(s[::-1])"
   ]
  },
  {
   "cell_type": "code",
   "execution_count": 14,
   "metadata": {},
   "outputs": [
    {
     "name": "stdout",
     "output_type": "stream",
     "text": [
      "Alberto LorenziniAlberto LorenziniAlberto Lorenzini\n"
     ]
    }
   ],
   "source": [
    "print(s*3)"
   ]
  },
  {
   "cell_type": "markdown",
   "metadata": {},
   "source": [
    "#### Flessibilità dei tipi: alcuni esempi"
   ]
  },
  {
   "cell_type": "code",
   "execution_count": 118,
   "metadata": {},
   "outputs": [],
   "source": [
    "a = 5."
   ]
  },
  {
   "cell_type": "code",
   "execution_count": 119,
   "metadata": {},
   "outputs": [
    {
     "name": "stdout",
     "output_type": "stream",
     "text": [
      "5.0\n"
     ]
    }
   ],
   "source": [
    "print(a)"
   ]
  },
  {
   "cell_type": "code",
   "execution_count": 120,
   "metadata": {},
   "outputs": [],
   "source": [
    "a = \"pippo\""
   ]
  },
  {
   "cell_type": "code",
   "execution_count": 121,
   "metadata": {},
   "outputs": [
    {
     "name": "stdout",
     "output_type": "stream",
     "text": [
      "pippo\n"
     ]
    }
   ],
   "source": [
    "print(a)"
   ]
  },
  {
   "cell_type": "code",
   "execution_count": 122,
   "metadata": {},
   "outputs": [
    {
     "name": "stdout",
     "output_type": "stream",
     "text": [
      "pippopippopippopippopippo\n"
     ]
    }
   ],
   "source": [
    "print(a*5)"
   ]
  },
  {
   "cell_type": "markdown",
   "metadata": {},
   "source": [
    "### Liste\n",
    "Una lista è una sequenza ordinata di elementi. Una lista può essere modificata (si possono aggiungere, eliminare e modificare elementi in essa contenuti). Gli elementi all'interno di una lista possono essere di diversi tipi."
   ]
  },
  {
   "cell_type": "code",
   "execution_count": 123,
   "metadata": {},
   "outputs": [],
   "source": [
    "mylist=[2,5,7,8,9,12,4]"
   ]
  },
  {
   "cell_type": "code",
   "execution_count": 124,
   "metadata": {},
   "outputs": [
    {
     "name": "stdout",
     "output_type": "stream",
     "text": [
      "[2, 5, 7, 8, 9, 12, 4]\n"
     ]
    }
   ],
   "source": [
    "print(mylist)"
   ]
  },
  {
   "cell_type": "code",
   "execution_count": 125,
   "metadata": {},
   "outputs": [
    {
     "name": "stdout",
     "output_type": "stream",
     "text": [
      "[5, 8, 12]\n"
     ]
    }
   ],
   "source": [
    "print(mylist[1::2])"
   ]
  },
  {
   "cell_type": "code",
   "execution_count": 126,
   "metadata": {},
   "outputs": [],
   "source": [
    "mylist[3]=\"pippo\""
   ]
  },
  {
   "cell_type": "code",
   "execution_count": 127,
   "metadata": {},
   "outputs": [
    {
     "name": "stdout",
     "output_type": "stream",
     "text": [
      "[5, 'pippo', 12]\n"
     ]
    }
   ],
   "source": [
    "print(mylist[1::2])"
   ]
  },
  {
   "cell_type": "code",
   "execution_count": 128,
   "metadata": {},
   "outputs": [],
   "source": [
    "mylist.append(\"pluto\")"
   ]
  },
  {
   "cell_type": "code",
   "execution_count": 129,
   "metadata": {},
   "outputs": [
    {
     "name": "stdout",
     "output_type": "stream",
     "text": [
      "[2, 5, 7, 'pippo', 9, 12, 4, 'pluto']\n"
     ]
    }
   ],
   "source": [
    "print(mylist)"
   ]
  },
  {
   "cell_type": "code",
   "execution_count": 130,
   "metadata": {},
   "outputs": [],
   "source": [
    "list2 = mylist.remove(\"pippo\")"
   ]
  },
  {
   "cell_type": "code",
   "execution_count": 131,
   "metadata": {},
   "outputs": [
    {
     "name": "stdout",
     "output_type": "stream",
     "text": [
      "None\n"
     ]
    }
   ],
   "source": [
    "print(list2)"
   ]
  },
  {
   "cell_type": "code",
   "execution_count": 132,
   "metadata": {},
   "outputs": [
    {
     "name": "stdout",
     "output_type": "stream",
     "text": [
      "None\n",
      "[2, 5, 7, 9, 12, 4, 'pluto', 'pippo']\n"
     ]
    }
   ],
   "source": [
    "list2 = mylist.append(\"pippo\")\n",
    "print(list2)\n",
    "print(mylist)"
   ]
  },
  {
   "cell_type": "code",
   "execution_count": 133,
   "metadata": {},
   "outputs": [
    {
     "name": "stdout",
     "output_type": "stream",
     "text": [
      "8\n"
     ]
    }
   ],
   "source": [
    "print(len(mylist))"
   ]
  },
  {
   "cell_type": "code",
   "execution_count": 134,
   "metadata": {},
   "outputs": [
    {
     "name": "stdout",
     "output_type": "stream",
     "text": [
      "19\n"
     ]
    }
   ],
   "source": [
    "print(len(s))"
   ]
  },
  {
   "cell_type": "code",
   "execution_count": 135,
   "metadata": {},
   "outputs": [
    {
     "name": "stdout",
     "output_type": "stream",
     "text": [
      "7\n"
     ]
    }
   ],
   "source": [
    "print(mylist.index(\"pippo\"))"
   ]
  },
  {
   "cell_type": "code",
   "execution_count": 136,
   "metadata": {},
   "outputs": [
    {
     "name": "stdout",
     "output_type": "stream",
     "text": [
      "pippo\n"
     ]
    }
   ],
   "source": [
    "print(mylist[mylist.index(\"pippo\")])"
   ]
  },
  {
   "cell_type": "code",
   "execution_count": 137,
   "metadata": {},
   "outputs": [],
   "source": [
    "mylist=[4, 7, 5, \"hello\", 9.3, \"pippo\"]"
   ]
  },
  {
   "cell_type": "code",
   "execution_count": 138,
   "metadata": {},
   "outputs": [
    {
     "name": "stdout",
     "output_type": "stream",
     "text": [
      "6\n",
      "3\n",
      "9.3\n"
     ]
    }
   ],
   "source": [
    "print(len(mylist))\n",
    "print(mylist.index(\"hello\"))\n",
    "print(mylist[mylist.index(\"pippo\")-1])"
   ]
  },
  {
   "cell_type": "code",
   "execution_count": 139,
   "metadata": {},
   "outputs": [
    {
     "name": "stdout",
     "output_type": "stream",
     "text": [
      "3\n"
     ]
    }
   ],
   "source": [
    "mylist.append(\"hello\")\n",
    "print(mylist.index(\"hello\"))"
   ]
  },
  {
   "cell_type": "code",
   "execution_count": 140,
   "metadata": {},
   "outputs": [
    {
     "name": "stdout",
     "output_type": "stream",
     "text": [
      "[4, 7, 5, 'hello', 9.3, 'pippo', 'hello']\n",
      "[4, 7, 5, 9.3, 'pippo', 'hello']\n"
     ]
    }
   ],
   "source": [
    "print(mylist)\n",
    "mylist.remove(\"hello\")\n",
    "print(mylist)"
   ]
  },
  {
   "cell_type": "markdown",
   "metadata": {},
   "source": [
    "## Esercizi\n",
    "### 1) eseguire l'operazione append senza utilizzare il metodo append o altri metodi: aggiungere l'elemento \"pluto\" alla lista"
   ]
  },
  {
   "cell_type": "code",
   "execution_count": 142,
   "metadata": {},
   "outputs": [
    {
     "name": "stdout",
     "output_type": "stream",
     "text": [
      "[4, 7, 5, 9.3, 'pippo', 'hello', None, 'pluto']\n"
     ]
    }
   ],
   "source": [
    "mylist[len(mylist):]+=['pluto']\n",
    "print(mylist)"
   ]
  },
  {
   "cell_type": "markdown",
   "metadata": {},
   "source": [
    "### 2) eseguire una append con il metodo insert"
   ]
  },
  {
   "cell_type": "code",
   "execution_count": 143,
   "metadata": {},
   "outputs": [
    {
     "name": "stdout",
     "output_type": "stream",
     "text": [
      "[4, 7, 5, 9.3, 'pippo', 'hello', None, 'pluto', None]\n"
     ]
    }
   ],
   "source": [
    "mylist.insert(len(mylist), None)\n",
    "print(mylist)"
   ]
  },
  {
   "cell_type": "markdown",
   "metadata": {},
   "source": [
    "#### Copy"
   ]
  },
  {
   "cell_type": "code",
   "execution_count": null,
   "metadata": {},
   "outputs": [],
   "source": [
    "#mylist = [mylist, 9, None, 2.1]\n",
    "print(mylist)\n",
    "mycopy=mylist\n",
    "#mycopy.remove(9)\n",
    "print(mycopy)\n",
    "print(mylist)"
   ]
  },
  {
   "cell_type": "markdown",
   "metadata": {},
   "source": [
    "### If"
   ]
  },
  {
   "cell_type": "code",
   "execution_count": 144,
   "metadata": {},
   "outputs": [
    {
     "name": "stdout",
     "output_type": "stream",
     "text": [
      "9\n",
      "Boh\n"
     ]
    }
   ],
   "source": [
    "print(len(mylist))\n",
    "if len(mylist)>3 :\n",
    "    print(\"Boh\")\n",
    "else :\n",
    "    print(\"Mah\")\n",
    "    print(\"What?\")\n"
   ]
  },
  {
   "cell_type": "markdown",
   "metadata": {},
   "source": [
    "### For Loop"
   ]
  },
  {
   "cell_type": "markdown",
   "metadata": {},
   "source": [
    "#### equivalente di for(int i=0; i<n; i++) {...} in C++"
   ]
  },
  {
   "cell_type": "code",
   "execution_count": null,
   "metadata": {},
   "outputs": [],
   "source": [
    "n = 5\n",
    "for i in range(n):\n",
    "    print(i)\n",
    "    print(\"Hello \"+str(i))"
   ]
  },
  {
   "cell_type": "markdown",
   "metadata": {},
   "source": [
    "### Range"
   ]
  },
  {
   "cell_type": "code",
   "execution_count": null,
   "metadata": {},
   "outputs": [],
   "source": [
    "print(list(range(n)))\n",
    "print(list(range(1,n)))\n",
    "print(list(range(1,n,2)))\n",
    "print(list(range(1,n,3)))"
   ]
  },
  {
   "cell_type": "markdown",
   "metadata": {},
   "source": [
    "### Loop su una stringa"
   ]
  },
  {
   "cell_type": "code",
   "execution_count": null,
   "metadata": {},
   "outputs": [],
   "source": [
    "sentence = \"Evviva la programmazione in Assembly!\"\n",
    "for c in sentence:\n",
    "    print(\"char: \"+c)"
   ]
  },
  {
   "cell_type": "markdown",
   "metadata": {},
   "source": [
    "### Loop su una lista"
   ]
  },
  {
   "cell_type": "code",
   "execution_count": null,
   "metadata": {},
   "outputs": [],
   "source": [
    "for k in mylist:\n",
    "    print(\"list element: \"+str(k))"
   ]
  },
  {
   "cell_type": "markdown",
   "metadata": {},
   "source": [
    "### Enumerate nel Loop\n",
    "La funzione enumerate serve a ottenere l'indice corrispondente\n",
    "ad ogni elemento di una sequenza."
   ]
  },
  {
   "cell_type": "code",
   "execution_count": null,
   "metadata": {},
   "outputs": [],
   "source": [
    "for i,k in enumerate(mylist):\n",
    "    print(\"list element n. \"+str(i)+\": \"+str(k))"
   ]
  },
  {
   "cell_type": "code",
   "execution_count": null,
   "metadata": {},
   "outputs": [],
   "source": [
    "# assegnare newVal a tutti gli elementi con indice pari:\n",
    "newVal = \"supersballo\"\n",
    "for i,k in enumerate(mylist):\n",
    "    if i%2==0:\n",
    "        mylist[i]=newVal\n",
    "\n",
    "print(mylist)\n"
   ]
  },
  {
   "cell_type": "markdown",
   "metadata": {},
   "source": [
    "### Funzioni"
   ]
  },
  {
   "cell_type": "code",
   "execution_count": null,
   "metadata": {},
   "outputs": [],
   "source": [
    "def functionName(pippo):\n",
    "    print(str(pippo))\n",
    "    return 0  # optionally a function can return a value\n"
   ]
  },
  {
   "cell_type": "code",
   "execution_count": null,
   "metadata": {},
   "outputs": [],
   "source": [
    "a = functionName(1)"
   ]
  },
  {
   "cell_type": "code",
   "execution_count": null,
   "metadata": {},
   "outputs": [],
   "source": [
    "print(a)"
   ]
  },
  {
   "cell_type": "code",
   "execution_count": null,
   "metadata": {},
   "outputs": [],
   "source": [
    "print([0]*4)"
   ]
  },
  {
   "cell_type": "code",
   "execution_count": null,
   "metadata": {},
   "outputs": [],
   "source": [
    "type([1,2,3])"
   ]
  },
  {
   "cell_type": "markdown",
   "metadata": {},
   "source": [
    "### Variabili locali e globali"
   ]
  },
  {
   "cell_type": "code",
   "execution_count": null,
   "metadata": {},
   "outputs": [],
   "source": [
    "x=10\n",
    "def addToX(y):\n",
    "    x=3  # questa x non è la variabile globale definita esternamente!\n",
    "    return x+y\n",
    "print(addToX(3))\n",
    "print(x)"
   ]
  },
  {
   "cell_type": "markdown",
   "metadata": {},
   "source": [
    "### Valori di default dei parametri"
   ]
  },
  {
   "cell_type": "code",
   "execution_count": null,
   "metadata": {},
   "outputs": [],
   "source": [
    "z=5\n",
    "def addToZ(y=0):\n",
    "    return z+y\n",
    "print(addToZ())"
   ]
  },
  {
   "cell_type": "code",
   "execution_count": null,
   "metadata": {},
   "outputs": [],
   "source": [
    "def fuu(a, lista=[]): # il valore di default viene valutato solo alla prima chiamata della funzione\n",
    "    lista.append(a)\n",
    "    return lista\n",
    "print(fuu('pippo'))\n",
    "print(fuu('pluto')) # stampa ['pippo', 'pluto']\n",
    "print(lista) # errore: lista non è definito!"
   ]
  },
  {
   "cell_type": "markdown",
   "metadata": {},
   "source": [
    "### Tuple\n",
    "Le tuple sono sequenze di elementi cone le liste, ma a differenza di queste ultime sono immutabili."
   ]
  },
  {
   "cell_type": "code",
   "execution_count": null,
   "metadata": {
    "scrolled": true
   },
   "outputs": [],
   "source": [
    "tup = (1, 'pippo', 3.2, 'paperino', True, None)\n",
    "print(tup)"
   ]
  },
  {
   "cell_type": "markdown",
   "metadata": {},
   "source": [
    "#### Si può definire una tupla anche senza le parentesi tonde:"
   ]
  },
  {
   "cell_type": "code",
   "execution_count": null,
   "metadata": {},
   "outputs": [],
   "source": [
    "tup2 = 1, 'pippo', 3.2, 'paperino', True, None\n",
    "print(tup2)"
   ]
  },
  {
   "cell_type": "code",
   "execution_count": null,
   "metadata": {},
   "outputs": [],
   "source": [
    "print(tup[5])\n",
    "tup[5]=2"
   ]
  },
  {
   "cell_type": "code",
   "execution_count": null,
   "metadata": {},
   "outputs": [],
   "source": [
    "listaA= [1,2,3]\n",
    "listaB=[214, 87, 98]\n",
    "tup3= listaA, listaB  # OK!\n",
    "print(tup3)"
   ]
  },
  {
   "cell_type": "code",
   "execution_count": null,
   "metadata": {},
   "outputs": [],
   "source": [
    "tup3[0].append('pippo') # OK!\n",
    "print(tup3)"
   ]
  },
  {
   "cell_type": "code",
   "execution_count": null,
   "metadata": {},
   "outputs": [],
   "source": [
    "tup3[0].extend(tup3[1]) # OK!\n",
    "print(tup3)"
   ]
  },
  {
   "cell_type": "code",
   "execution_count": null,
   "metadata": {},
   "outputs": [],
   "source": [
    "tup3[1]=None"
   ]
  },
  {
   "cell_type": "markdown",
   "metadata": {},
   "source": [
    "### Dictionaries"
   ]
  },
  {
   "cell_type": "markdown",
   "metadata": {},
   "source": [
    "Non sono sequenze come le liste e le tuple, ma contengono al loro interno \n",
    "un insieme non ordinato di coppie chiave-valore"
   ]
  },
  {
   "cell_type": "code",
   "execution_count": null,
   "metadata": {},
   "outputs": [],
   "source": [
    "info = { 'name':'Gino', 'age':87, 'cap':33080, 'city':'Porcia'}"
   ]
  },
  {
   "cell_type": "code",
   "execution_count": null,
   "metadata": {},
   "outputs": [],
   "source": [
    "print(info)"
   ]
  },
  {
   "cell_type": "markdown",
   "metadata": {},
   "source": [
    "### Si possono aggiungere altre coppie chiave-valore:"
   ]
  },
  {
   "cell_type": "code",
   "execution_count": null,
   "metadata": {},
   "outputs": [],
   "source": [
    "info['surname'] = 'Battistuzzin'\n",
    "print(info)"
   ]
  },
  {
   "cell_type": "markdown",
   "metadata": {},
   "source": [
    "### Si possono eliminare delle coppie:"
   ]
  },
  {
   "cell_type": "code",
   "execution_count": null,
   "metadata": {},
   "outputs": [],
   "source": [
    "del info['surname']\n",
    "print(info)"
   ]
  },
  {
   "cell_type": "code",
   "execution_count": null,
   "metadata": {},
   "outputs": [],
   "source": [
    "info['age']+=1\n",
    "print(info)"
   ]
  },
  {
   "cell_type": "code",
   "execution_count": null,
   "metadata": {},
   "outputs": [],
   "source": [
    "info['relatieves']= ['Beppina', 'Giacinto', 'Osvaldo', 'Vinicio']\n",
    "print(info)"
   ]
  },
  {
   "cell_type": "code",
   "execution_count": null,
   "metadata": {},
   "outputs": [],
   "source": [
    "info['selfie'] = {'pippo':3, 'pluto':10}\n",
    "info['tupla'] = ('pippo',3,'pluto',10)\n",
    "print(info)\n",
    "print(info['selfie'])"
   ]
  },
  {
   "cell_type": "markdown",
   "metadata": {},
   "source": [
    "### Lista delle chiavi"
   ]
  },
  {
   "cell_type": "code",
   "execution_count": null,
   "metadata": {},
   "outputs": [],
   "source": [
    "list(info.keys())"
   ]
  },
  {
   "cell_type": "markdown",
   "metadata": {},
   "source": [
    "### Creazione di un dictionary da una lista di tuple"
   ]
  },
  {
   "cell_type": "code",
   "execution_count": null,
   "metadata": {},
   "outputs": [],
   "source": [
    "listaTuple = [('Jim', 1), ('Carl', 42), ('Paul', 87)]\n",
    "dict(listaTuple)"
   ]
  },
  {
   "cell_type": "markdown",
   "metadata": {},
   "source": [
    "### Altro modo alternativo per creare un dictionary"
   ]
  },
  {
   "cell_type": "code",
   "execution_count": null,
   "metadata": {},
   "outputs": [],
   "source": [
    "dict(Joe=45, Tim=12, Bob=67)"
   ]
  },
  {
   "cell_type": "markdown",
   "metadata": {},
   "source": [
    "### Esercizio: \n",
    "stampare i valori presenti all'interno di un dictionary \n",
    "(omettendo i nomi delle chiavi)"
   ]
  },
  {
   "cell_type": "code",
   "execution_count": null,
   "metadata": {},
   "outputs": [],
   "source": [
    "for k in list(info.keys()):\n",
    "    print(info[k])"
   ]
  },
  {
   "cell_type": "markdown",
   "metadata": {},
   "source": [
    "### Esercizio\n",
    "Utilizzando un dictionary, trovare la frequenza di ogni lettera dell'alfabeto all'interno del seguente testo:"
   ]
  },
  {
   "cell_type": "code",
   "execution_count": 4,
   "metadata": {},
   "outputs": [],
   "source": [
    "canto5 = \"Così discesi del cerchio primaio giù nel secondo, che men loco cinghia, e tanto più dolor, che punge a guaio. Stavvi Minòs orribilmente, e ringhia: essamina le colpe ne l’intrata; giudica e manda secondo ch’avvinghia.Dico che quando l’anima mal nata li vien dinanzi, tutta si confessa; e quel conoscitor de le peccatavede qual loco d’inferno è da essa; cignesi con la coda tante volte quantunque gradi vuol che giù sia messa.Sempre dinanzi a lui ne stanno molte; vanno a vicenda ciascuna al giudizio;dicono e odono, e poi son giù volte.«O tu che vieni al doloroso ospizio», disse Minòs a me quando mi vide, lasciando l’atto di cotanto offizio,«guarda com’entri e di cui tu ti fide; non t’inganni l’ampiezza de l’intrare!». E ’l duca mio a lui: «Perché pur gride?Non impedir lo suo fatale andare: vuolsi così colà dove si puote ciò che si vuole, e più non dimandare».Or incomincian le dolenti note a farmisi sentire; or son venuto là dove molto pianto mi percuote.Io venni in loco d’ogne luce muto, che mugghia come fa mar per tempesta, se da contrari venti è combattuto.La bufera infernal, che mai non resta, mena li spirti con la sua rapina; voltando e percotendo li molesta.Quando giungon davanti a la ruina, quivi le strida, il compianto, il lamento; bestemmian quivi la virtù divina.Intesi ch’a così fatto tormento enno dannati i peccator carnali, che la ragion sommettono al talento.E come li stornei ne portan l’ali nel freddo tempo, a schiera larga e piena, così quel fiato li spiriti mali;di qua, di là, di giù, di sù li mena; nulla speranza li conforta mai, non che di posa, ma di minor pena.E come i gru van cantando lor lai, faccendo in aere di sé lunga riga, così vid’io venir, traendo guai,ombre portate da la detta briga; per ch’i’ dissi: «Maestro, chi son quelle genti che l’aura nera sì gastiga?».«La prima di color di cui novelle tu vuo’ saper», mi disse quelli allotta, «fu imperadrice di molte favelle.A vizio di lussuria fu sì rotta, che libito fé licito in sua legge, per tòrre il biasmo in che era condotta.Ell’è Semiramìs, di cui si legge che succedette a Nino e fu sua sposa: tenne la terra che ’l Soldan corregge.L’altra è colei che s’ancise amorosa, e ruppe fede al cener di Sicheo; poi è Cleopatràs lussuriosa.Elena vedi, per cui tanto reo tempo si volse, e vedi ’l grande Achille, che con amore al fine combatteo.Vedi Parìs, Tristano»; e più di mille ombre mostrommi e nominommi a dito, ch’amor di nostra vita dipartille.Poscia ch’io ebbi il mio dottore udito nomar le donne antiche e ’ cavalieri, pietà mi giunse, e fui quasi smarrito.I’ cominciai: «Poeta, volontieri parlerei a quei due che ’nsieme vanno, e paion sì al vento esser leggeri».Ed elli a me: «Vedrai quando saranno più presso a noi; e tu allor li priega per quello amor che i mena, ed ei verranno».Sì tosto come il vento a noi li piega, mossi la voce: «O anime affannate, venite a noi parlar, s’altri nol niega!».Quali colombe dal disio chiamate con l’ali alzate e ferme al dolce nido vegnon per l’aere dal voler portate;cotali uscir de la schiera ov’è Dido, a noi venendo per l’aere maligno, sì forte fu l’affettuoso grido.«O animal grazioso e benigno che visitando vai per l’aere perso noi che tignemmo il mondo di sanguigno,se fosse amico il re de l’universo, noi pregheremmo lui de la tua pace, poi c’hai pietà del nostro mal perverso.Di quel che udire e che parlar vi piace, noi udiremo e parleremo a voi, mentre che ’l vento, come fa, ci tace.Siede la terra dove nata fui su la marina dove ’l Po discende per aver pace co’ seguaci sui.Amor, ch’al cor gentil ratto s’apprende prese costui de la bella persona che mi fu tolta; e ’l modo ancor m’offende.Amor, ch’a nullo amato amar perdona, mi prese del costui piacer sì forte, che, come vedi, ancor non m’abbandona.Amor condusse noi ad una morte: Caina attende chi a vita ci spense». Queste parole da lor ci fuor porte.Quand’io intesi quell’anime offense, china’ il viso e tanto il tenni basso, fin che ’l poeta mi disse: «Che pense?».Quando rispuosi, cominciai: «Oh lasso, quanti dolci pensier, quanto disio menò costoro al doloroso passo!».Poi mi rivolsi a loro e parla’ io, e cominciai: «Francesca, i tuoi martìri a lagrimar mi fanno tristo e pio.Ma dimmi: al tempo d’i dolci sospiri, a che e come concedette Amore che conosceste i dubbiosi disiri?».E quella a me: «Nessun maggior dolore che ricordarsi del tempo felice ne la miseria; e ciò sa ’l tuo dottore.Ma s’a conoscer la prima radice del nostro amor tu hai cotanto affetto, dirò come colui che piange e dice.Noi leggiavamo un giorno per diletto di Lancialotto come amor lo strinse; soli eravamo e sanza alcun sospetto.Per più fiate li occhi ci sospinse quella lettura, e scolorocci il viso; ma solo un punto fu quel che ci vinse.Quando leggemmo il disiato riso esser basciato da cotanto amante, questi, che mai da me non fia diviso,la bocca mi basciò tutto tremante. Galeotto fu ’l libro e chi lo scrisse: quel giorno più non vi leggemmo avante».Mentre che l’uno spirto questo disse, l’altro piangea; sì che di pietade io venni men così com’io morisse. E caddi come corpo morto cade.\""
   ]
  },
  {
   "cell_type": "code",
   "execution_count": 5,
   "metadata": {},
   "outputs": [
    {
     "name": "stdout",
     "output_type": "stream",
     "text": [
      "così discesi del cerchio primaio giù nel secondo, che men loco cinghia, e tanto più dolor, che punge a guaio. stavvi minòs orribilmente, e ringhia: essamina le colpe ne l’intrata; giudica e manda secondo ch’avvinghia.dico che quando l’anima mal nata li vien dinanzi, tutta si confessa; e quel conoscitor de le peccatavede qual loco d’inferno è da essa; cignesi con la coda tante volte quantunque gradi vuol che giù sia messa.sempre dinanzi a lui ne stanno molte; vanno a vicenda ciascuna al giudizio;dicono e odono, e poi son giù volte.«o tu che vieni al doloroso ospizio», disse minòs a me quando mi vide, lasciando l’atto di cotanto offizio,«guarda com’entri e di cui tu ti fide; non t’inganni l’ampiezza de l’intrare!». e ’l duca mio a lui: «perché pur gride?non impedir lo suo fatale andare: vuolsi così colà dove si puote ciò che si vuole, e più non dimandare».or incomincian le dolenti note a farmisi sentire; or son venuto là dove molto pianto mi percuote.io venni in loco d’ogne luce muto, che mugghia come fa mar per tempesta, se da contrari venti è combattuto.la bufera infernal, che mai non resta, mena li spirti con la sua rapina; voltando e percotendo li molesta.quando giungon davanti a la ruina, quivi le strida, il compianto, il lamento; bestemmian quivi la virtù divina.intesi ch’a così fatto tormento enno dannati i peccator carnali, che la ragion sommettono al talento.e come li stornei ne portan l’ali nel freddo tempo, a schiera larga e piena, così quel fiato li spiriti mali;di qua, di là, di giù, di sù li mena; nulla speranza li conforta mai, non che di posa, ma di minor pena.e come i gru van cantando lor lai, faccendo in aere di sé lunga riga, così vid’io venir, traendo guai,ombre portate da la detta briga; per ch’i’ dissi: «maestro, chi son quelle genti che l’aura nera sì gastiga?».«la prima di color di cui novelle tu vuo’ saper», mi disse quelli allotta, «fu imperadrice di molte favelle.a vizio di lussuria fu sì rotta, che libito fé licito in sua legge, per tòrre il biasmo in che era condotta.ell’è semiramìs, di cui si legge che succedette a nino e fu sua sposa: tenne la terra che ’l soldan corregge.l’altra è colei che s’ancise amorosa, e ruppe fede al cener di sicheo; poi è cleopatràs lussuriosa.elena vedi, per cui tanto reo tempo si volse, e vedi ’l grande achille, che con amore al fine combatteo.vedi parìs, tristano»; e più di mille ombre mostrommi e nominommi a dito, ch’amor di nostra vita dipartille.poscia ch’io ebbi il mio dottore udito nomar le donne antiche e ’ cavalieri, pietà mi giunse, e fui quasi smarrito.i’ cominciai: «poeta, volontieri parlerei a quei due che ’nsieme vanno, e paion sì al vento esser leggeri».ed elli a me: «vedrai quando saranno più presso a noi; e tu allor li priega per quello amor che i mena, ed ei verranno».sì tosto come il vento a noi li piega, mossi la voce: «o anime affannate, venite a noi parlar, s’altri nol niega!».quali colombe dal disio chiamate con l’ali alzate e ferme al dolce nido vegnon per l’aere dal voler portate;cotali uscir de la schiera ov’è dido, a noi venendo per l’aere maligno, sì forte fu l’affettuoso grido.«o animal grazioso e benigno che visitando vai per l’aere perso noi che tignemmo il mondo di sanguigno,se fosse amico il re de l’universo, noi pregheremmo lui de la tua pace, poi c’hai pietà del nostro mal perverso.di quel che udire e che parlar vi piace, noi udiremo e parleremo a voi, mentre che ’l vento, come fa, ci tace.siede la terra dove nata fui su la marina dove ’l po discende per aver pace co’ seguaci sui.amor, ch’al cor gentil ratto s’apprende prese costui de la bella persona che mi fu tolta; e ’l modo ancor m’offende.amor, ch’a nullo amato amar perdona, mi prese del costui piacer sì forte, che, come vedi, ancor non m’abbandona.amor condusse noi ad una morte: caina attende chi a vita ci spense». queste parole da lor ci fuor porte.quand’io intesi quell’anime offense, china’ il viso e tanto il tenni basso, fin che ’l poeta mi disse: «che pense?».quando rispuosi, cominciai: «oh lasso, quanti dolci pensier, quanto disio menò costoro al doloroso passo!».poi mi rivolsi a loro e parla’ io, e cominciai: «francesca, i tuoi martìri a lagrimar mi fanno tristo e pio.ma dimmi: al tempo d’i dolci sospiri, a che e come concedette amore che conosceste i dubbiosi disiri?».e quella a me: «nessun maggior dolore che ricordarsi del tempo felice ne la miseria; e ciò sa ’l tuo dottore.ma s’a conoscer la prima radice del nostro amor tu hai cotanto affetto, dirò come colui che piange e dice.noi leggiavamo un giorno per diletto di lancialotto come amor lo strinse; soli eravamo e sanza alcun sospetto.per più fiate li occhi ci sospinse quella lettura, e scolorocci il viso; ma solo un punto fu quel che ci vinse.quando leggemmo il disiato riso esser basciato da cotanto amante, questi, che mai da me non fia diviso,la bocca mi basciò tutto tremante. galeotto fu ’l libro e chi lo scrisse: quel giorno più non vi leggemmo avante».mentre che l’uno spirto questo disse, l’altro piangea; sì che di pietade io venni men così com’io morisse. e caddi come corpo morto cade.\n"
     ]
    }
   ],
   "source": [
    "canto5 = canto5.lower()\n",
    "print(canto5)"
   ]
  },
  {
   "cell_type": "code",
   "execution_count": 147,
   "metadata": {},
   "outputs": [],
   "source": [
    "# Frequenze delle lettere dell'alfabeto in un testo\n",
    "def frequenze(testo):\n",
    "    alpha='abcdefghijklmnopqrstuvwxyz'\n",
    "    specialchar={'à':'a', 'è':'e', 'é':'e', 'ì':'i', 'ò':'o', 'ù':'u'}\n",
    "    freq={}\n",
    "    for c in alpha:\n",
    "        freq[c] = 0\n",
    "\n",
    "    for x in testo.lower():\n",
    "        if x in alpha:\n",
    "            freq[x]+=1\n",
    "        elif x in list(specialchar.keys()):\n",
    "            freq[specialchar[x]]+=1\n",
    "        \n",
    "\n",
    "    for c in alpha:\n",
    "        freq[c] /= len(testo)\n",
    "\n",
    "    return freq"
   ]
  },
  {
   "cell_type": "code",
   "execution_count": 148,
   "metadata": {},
   "outputs": [
    {
     "data": {
      "text/plain": [
       "{'a': 0.0787819253438114,\n",
       " 'b': 0.004715127701375246,\n",
       " 'c': 0.04007858546168959,\n",
       " 'd': 0.03182711198428291,\n",
       " 'e': 0.09155206286836935,\n",
       " 'f': 0.009823182711198428,\n",
       " 'g': 0.01355599214145383,\n",
       " 'h': 0.012573673870333988,\n",
       " 'i': 0.08664047151277014,\n",
       " 'j': 0.0,\n",
       " 'k': 0.0,\n",
       " 'l': 0.04557956777996071,\n",
       " 'm': 0.030058939096267192,\n",
       " 'n': 0.054027504911591355,\n",
       " 'o': 0.08035363457760314,\n",
       " 'p': 0.021021611001964636,\n",
       " 'q': 0.006286836935166994,\n",
       " 'r': 0.04400785854616896,\n",
       " 's': 0.04086444007858546,\n",
       " 't': 0.04282907662082515,\n",
       " 'u': 0.026719056974459726,\n",
       " 'v': 0.014341846758349706,\n",
       " 'w': 0.0,\n",
       " 'x': 0.0,\n",
       " 'y': 0.0,\n",
       " 'z': 0.002357563850687623}"
      ]
     },
     "execution_count": 148,
     "metadata": {},
     "output_type": "execute_result"
    }
   ],
   "source": [
    "frequenze(canto5)"
   ]
  },
  {
   "cell_type": "markdown",
   "metadata": {},
   "source": [
    "### Esercizio\n",
    "\n",
    "Utilizzando un dictionary, trovare le occorrenze delle parole all'interno di un testo:\n"
   ]
  },
  {
   "cell_type": "code",
   "execution_count": 18,
   "metadata": {},
   "outputs": [
    {
     "name": "stdout",
     "output_type": "stream",
     "text": [
      "così discesi del cerchio primaio secondo  men loco cinghia  tanto più dolor  punge guaio  stavvi minòs orribilmente  ringhia  essamina colpe  intrata  giudica manda secondo  avvinghia dico quando  anima mal nata vien dinanzi  tutta confessa  quel conoscitor de peccatavede qual loco d inferno è da essa  cignesi coda tante volte quantunque gradi vuol sia messa sempre dinanzi lui stanno molte  vanno vicenda ciascuna al giudizio dicono odono  poi son volte  tu vieni al doloroso ospizio   disse minòs quando vide  lasciando  atto cotanto offizio  guarda com entri cui tu fide  non  inganni  ampiezza de  intrare      duca mio lui   perché pur gride non impedir suo fatale andare  vuolsi così colà dove puote ciò vuole  più non dimandare  incomincian dolenti note farmisi sentire  son venuto dove molto pianto percuote io venni loco d ogne luce muto  mugghia come fa mar tempesta  se da contrari venti è combattuto bufera infernal  mai non resta  mena spirti sua rapina  voltando percotendo molesta quando giungon davanti ruina  quivi strida  compianto  lamento  bestemmian quivi virtù divina intesi  così fatto tormento enno dannati peccator carnali  ragion sommettono al talento come stornei portan  ali freddo tempo  schiera larga piena  così quel fiato spiriti mali qua    sù mena  nulla speranza conforta mai  non posa  ma minor pena come gru van cantando lor lai  faccendo aere sé lunga riga  così vid io venir  traendo guai ombre portate da detta briga   i  dissi   maestro  chi son quelle genti  aura nera gastiga    prima color cui novelle tu vuo  saper   disse quelli allotta   fu imperadrice molte favelle vizio lussuria fu rotta  libito fé licito sua legge  tòrre biasmo era condotta el è semiramìs  cui legge succedette nino fu sua sposa  tenne terra   soldan corregge  altra è colei s ancise amorosa  ruppe fede al cener sicheo  poi è cleopatràs lussuriosa elena vedi  cui tanto reo tempo volse  vedi   grande achille  amore al fine combatteo vedi parìs  tristano   più mille ombre mostrommi nominommi dito   amor nostra vita dipartille poscia  io ebbi mio dottore udito nomar donne antiche   cavalieri  pietà giunse  fui quasi smarrito i  cominciai   poeta  volontieri parlerei quei due  nsieme vanno  paion al vento esser leggeri  ed elli   vedrai quando saranno più presso noi  tu allor priega quello amor mena  ed ei verranno  tosto come vento noi piega  mossi voce   anime affannate  venite noi parlar  s altri nol niega   quali colombe dal disio chiamate  ali alzate ferme al dolce nido vegnon  aere dal voler portate cotali uscir de schiera ov è dido  noi venendo  aere maligno  forte fu  affettuoso grido  animal grazioso benigno visitando vai  aere perso noi tignemmo mondo sanguigno se fosse amico re de  universo  noi pregheremmo lui de tua pace  poi c hai pietà del nostro mal perverso quel udire parlar piace  noi udiremo parleremo voi  mentre   vento  come fa  ci tace siede terra dove nata fui marina dove   po discende aver pace co  seguaci sui amor   al cor gentil ratto s apprende prese costui de bella persona fu tolta    modo ancor m offende amor   nullo amato amar perdona  prese del costui piacer forte   come vedi  ancor non m abbandona amor condusse noi ad una morte  caina attende chi vita ci spense   queste parole da lor ci fuor porte quand io intesi quel anime offense  china  viso tanto tenni basso  fin   poeta disse   pense   quando rispuosi  cominciai   oh lasso  quanti dolci pensier  quanto disio menò costoro al doloroso passo   poi rivolsi loro parla  io  cominciai   francesca  tuoi martìri lagrimar fanno tristo pio ma dimmi  al tempo d i dolci sospiri  come concedette amore conosceste dubbiosi disiri   quella   nessun maggior dolore ricordarsi del tempo felice miseria  ciò sa   tuo dottore ma s a conoscer prima radice del nostro amor tu hai cotanto affetto  dirò come colui piange dice noi leggiavamo un giorno diletto lancialotto come amor strinse  soli eravamo sanza alcun sospetto più fiate occhi ci sospinse quella lettura  scolorocci viso  ma solo un punto fu quel ci vinse quando leggemmo disiato riso esser basciato da cotanto amante  questi  mai da non fia diviso bocca basciò tutto tremante  galeotto fu   libro chi scrisse  quel giorno più non leggemmo avante  mentre  uno spirto questo disse   altro piangea  pietade io venni men così com io morisse  caddi come corpo morto cade \n",
      "['così', 'discesi', 'del', 'cerchio', 'primaio', 'secondo', 'men', 'loco', 'cinghia', 'tanto', 'più', 'dolor', 'punge', 'guaio', 'stavvi', 'minòs', 'orribilmente', 'ringhia', 'essamina', 'colpe', 'intrata', 'giudica', 'manda', 'secondo', 'avvinghia', 'dico', 'quando', 'anima', 'mal', 'nata', 'vien', 'dinanzi', 'tutta', 'confessa', 'quel', 'conoscitor', 'de', 'peccatavede', 'qual', 'loco', 'd', 'inferno', 'è', 'da', 'essa', 'cignesi', 'coda', 'tante', 'volte', 'quantunque', 'gradi', 'vuol', 'sia', 'messa', 'sempre', 'dinanzi', 'lui', 'stanno', 'molte', 'vanno', 'vicenda', 'ciascuna', 'al', 'giudizio', 'dicono', 'odono', 'poi', 'son', 'volte', 'tu', 'vieni', 'al', 'doloroso', 'ospizio', 'disse', 'minòs', 'quando', 'vide', 'lasciando', 'atto', 'cotanto', 'offizio', 'guarda', 'com', 'entri', 'cui', 'tu', 'fide', 'non', 'inganni', 'ampiezza', 'de', 'intrare', 'duca', 'mio', 'lui', 'perché', 'pur', 'gride', 'non', 'impedir', 'suo', 'fatale', 'andare', 'vuolsi', 'così', 'colà', 'dove', 'puote', 'ciò', 'vuole', 'più', 'non', 'dimandare', 'incomincian', 'dolenti', 'note', 'farmisi', 'sentire', 'son', 'venuto', 'dove', 'molto', 'pianto', 'percuote', 'io', 'venni', 'loco', 'd', 'ogne', 'luce', 'muto', 'mugghia', 'come', 'fa', 'mar', 'tempesta', 'se', 'da', 'contrari', 'venti', 'è', 'combattuto', 'bufera', 'infernal', 'mai', 'non', 'resta', 'mena', 'spirti', 'sua', 'rapina', 'voltando', 'percotendo', 'molesta', 'quando', 'giungon', 'davanti', 'ruina', 'quivi', 'strida', 'compianto', 'lamento', 'bestemmian', 'quivi', 'virtù', 'divina', 'intesi', 'così', 'fatto', 'tormento', 'enno', 'dannati', 'peccator', 'carnali', 'ragion', 'sommettono', 'al', 'talento', 'come', 'stornei', 'portan', 'ali', 'freddo', 'tempo', 'schiera', 'larga', 'piena', 'così', 'quel', 'fiato', 'spiriti', 'mali', 'qua', 'sù', 'mena', 'nulla', 'speranza', 'conforta', 'mai', 'non', 'posa', 'ma', 'minor', 'pena', 'come', 'gru', 'van', 'cantando', 'lor', 'lai', 'faccendo', 'aere', 'sé', 'lunga', 'riga', 'così', 'vid', 'io', 'venir', 'traendo', 'guai', 'ombre', 'portate', 'da', 'detta', 'briga', 'i', 'dissi', 'maestro', 'chi', 'son', 'quelle', 'genti', 'aura', 'nera', 'gastiga', 'prima', 'color', 'cui', 'novelle', 'tu', 'vuo', 'saper', 'disse', 'quelli', 'allotta', 'fu', 'imperadrice', 'molte', 'favelle', 'vizio', 'lussuria', 'fu', 'rotta', 'libito', 'fé', 'licito', 'sua', 'legge', 'tòrre', 'biasmo', 'era', 'condotta', 'el', 'è', 'semiramìs', 'cui', 'legge', 'succedette', 'nino', 'fu', 'sua', 'sposa', 'tenne', 'terra', 'soldan', 'corregge', 'altra', 'è', 'colei', 's', 'ancise', 'amorosa', 'ruppe', 'fede', 'al', 'cener', 'sicheo', 'poi', 'è', 'cleopatràs', 'lussuriosa', 'elena', 'vedi', 'cui', 'tanto', 'reo', 'tempo', 'volse', 'vedi', 'grande', 'achille', 'amore', 'al', 'fine', 'combatteo', 'vedi', 'parìs', 'tristano', 'più', 'mille', 'ombre', 'mostrommi', 'nominommi', 'dito', 'amor', 'nostra', 'vita', 'dipartille', 'poscia', 'io', 'ebbi', 'mio', 'dottore', 'udito', 'nomar', 'donne', 'antiche', 'cavalieri', 'pietà', 'giunse', 'fui', 'quasi', 'smarrito', 'i', 'cominciai', 'poeta', 'volontieri', 'parlerei', 'quei', 'due', 'nsieme', 'vanno', 'paion', 'al', 'vento', 'esser', 'leggeri', 'ed', 'elli', 'vedrai', 'quando', 'saranno', 'più', 'presso', 'noi', 'tu', 'allor', 'priega', 'quello', 'amor', 'mena', 'ed', 'ei', 'verranno', 'tosto', 'come', 'vento', 'noi', 'piega', 'mossi', 'voce', 'anime', 'affannate', 'venite', 'noi', 'parlar', 's', 'altri', 'nol', 'niega', 'quali', 'colombe', 'dal', 'disio', 'chiamate', 'ali', 'alzate', 'ferme', 'al', 'dolce', 'nido', 'vegnon', 'aere', 'dal', 'voler', 'portate', 'cotali', 'uscir', 'de', 'schiera', 'ov', 'è', 'dido', 'noi', 'venendo', 'aere', 'maligno', 'forte', 'fu', 'affettuoso', 'grido', 'animal', 'grazioso', 'benigno', 'visitando', 'vai', 'aere', 'perso', 'noi', 'tignemmo', 'mondo', 'sanguigno', 'se', 'fosse', 'amico', 're', 'de', 'universo', 'noi', 'pregheremmo', 'lui', 'de', 'tua', 'pace', 'poi', 'c', 'hai', 'pietà', 'del', 'nostro', 'mal', 'perverso', 'quel', 'udire', 'parlar', 'piace', 'noi', 'udiremo', 'parleremo', 'voi', 'mentre', 'vento', 'come', 'fa', 'ci', 'tace', 'siede', 'terra', 'dove', 'nata', 'fui', 'marina', 'dove', 'po', 'discende', 'aver', 'pace', 'co', 'seguaci', 'sui', 'amor', 'al', 'cor', 'gentil', 'ratto', 's', 'apprende', 'prese', 'costui', 'de', 'bella', 'persona', 'fu', 'tolta', 'modo', 'ancor', 'm', 'offende', 'amor', 'nullo', 'amato', 'amar', 'perdona', 'prese', 'del', 'costui', 'piacer', 'forte', 'come', 'vedi', 'ancor', 'non', 'm', 'abbandona', 'amor', 'condusse', 'noi', 'ad', 'una', 'morte', 'caina', 'attende', 'chi', 'vita', 'ci', 'spense', 'queste', 'parole', 'da', 'lor', 'ci', 'fuor', 'porte', 'quand', 'io', 'intesi', 'quel', 'anime', 'offense', 'china', 'viso', 'tanto', 'tenni', 'basso', 'fin', 'poeta', 'disse', 'pense', 'quando', 'rispuosi', 'cominciai', 'oh', 'lasso', 'quanti', 'dolci', 'pensier', 'quanto', 'disio', 'menò', 'costoro', 'al', 'doloroso', 'passo', 'poi', 'rivolsi', 'loro', 'parla', 'io', 'cominciai', 'francesca', 'tuoi', 'martìri', 'lagrimar', 'fanno', 'tristo', 'pio', 'ma', 'dimmi', 'al', 'tempo', 'd', 'i', 'dolci', 'sospiri', 'come', 'concedette', 'amore', 'conosceste', 'dubbiosi', 'disiri', 'quella', 'nessun', 'maggior', 'dolore', 'ricordarsi', 'del', 'tempo', 'felice', 'miseria', 'ciò', 'sa', 'tuo', 'dottore', 'ma', 's', 'a', 'conoscer', 'prima', 'radice', 'del', 'nostro', 'amor', 'tu', 'hai', 'cotanto', 'affetto', 'dirò', 'come', 'colui', 'piange', 'dice', 'noi', 'leggiavamo', 'un', 'giorno', 'diletto', 'lancialotto', 'come', 'amor', 'strinse', 'soli', 'eravamo', 'sanza', 'alcun', 'sospetto', 'più', 'fiate', 'occhi', 'ci', 'sospinse', 'quella', 'lettura', 'scolorocci', 'viso', 'ma', 'solo', 'un', 'punto', 'fu', 'quel', 'ci', 'vinse', 'quando', 'leggemmo', 'disiato', 'riso', 'esser', 'basciato', 'da', 'cotanto', 'amante', 'questi', 'mai', 'da', 'non', 'fia', 'diviso', 'bocca', 'basciò', 'tutto', 'tremante', 'galeotto', 'fu', 'libro', 'chi', 'scrisse', 'quel', 'giorno', 'più', 'non', 'leggemmo', 'avante', 'mentre', 'uno', 'spirto', 'questo', 'disse', 'altro', 'piangea', 'pietade', 'io', 'venni', 'men', 'così', 'com', 'io', 'morisse', 'caddi', 'come', 'corpo', 'morto', 'cade']\n"
     ]
    }
   ],
   "source": [
    "# Questa funzione verrà utilizzata per eliminare o sostituire parti del testo fornite come lista di sottostringhe\n",
    "def myreplace(text, lista, replacement_char):\n",
    "    for c in lista:\n",
    "        text = text.replace(c, replacement_char)\n",
    "        \n",
    "    return text\n",
    "\n",
    "# Elimina gli articoli, le preposizioni, i pronomi, le congiunzioni e la punteggiatura dal testo\n",
    "testo = myreplace(canto5, [',' , 'l’', '«', '»', '!', '?', ';', ':', '.', '’l', 'ch’', 't’', ' il ', ' lo ', ' la ', ' i ', ' gli ', ' le ',' di ', ' a ', ' da ', ' in ', ' con ', ' su ', ' per ', ' tra ', ' fra ', ' giù ', ' e ', ' o ', ' che ', ' ne ', ' li ', ' nel ', ' nei ', ' nello ', ' negli ', ' si ', ' mi ', ' ti ', ' vi ', ' or ', ' là ', ' me ', '’', 's’', 'com’', 'quand’', ' sì ', ' no ', ' non '], \" \")\n",
    "print(testo)\n",
    "\n",
    "# Trasforma il testo in una lista di parole utilizzando lo spazio come separatore\n",
    "lista_parole = testo.split()\n",
    "print(lista_parole)"
   ]
  },
  {
   "cell_type": "code",
   "execution_count": 19,
   "metadata": {},
   "outputs": [
    {
     "data": {
      "text/plain": [
       "{'così': 6,\n",
       " 'discesi': 1,\n",
       " 'del': 5,\n",
       " 'cerchio': 1,\n",
       " 'primaio': 1,\n",
       " 'secondo': 2,\n",
       " 'men': 2,\n",
       " 'loco': 3,\n",
       " 'cinghia': 1,\n",
       " 'tanto': 3,\n",
       " 'più': 6,\n",
       " 'dolor': 1,\n",
       " 'punge': 1,\n",
       " 'guaio': 1,\n",
       " 'stavvi': 1,\n",
       " 'minòs': 2,\n",
       " 'orribilmente': 1,\n",
       " 'ringhia': 1,\n",
       " 'essamina': 1,\n",
       " 'colpe': 1,\n",
       " 'intrata': 1,\n",
       " 'giudica': 1,\n",
       " 'manda': 1,\n",
       " 'avvinghia': 1,\n",
       " 'dico': 1,\n",
       " 'quando': 6,\n",
       " 'anima': 1,\n",
       " 'mal': 2,\n",
       " 'nata': 2,\n",
       " 'vien': 1,\n",
       " 'dinanzi': 2,\n",
       " 'tutta': 1,\n",
       " 'confessa': 1,\n",
       " 'quel': 6,\n",
       " 'conoscitor': 1,\n",
       " 'de': 6,\n",
       " 'peccatavede': 1,\n",
       " 'qual': 1,\n",
       " 'd': 3,\n",
       " 'inferno': 1,\n",
       " 'è': 6,\n",
       " 'da': 6,\n",
       " 'essa': 1,\n",
       " 'cignesi': 1,\n",
       " 'coda': 1,\n",
       " 'tante': 1,\n",
       " 'volte': 2,\n",
       " 'quantunque': 1,\n",
       " 'gradi': 1,\n",
       " 'vuol': 1,\n",
       " 'sia': 1,\n",
       " 'messa': 1,\n",
       " 'sempre': 1,\n",
       " 'lui': 3,\n",
       " 'stanno': 1,\n",
       " 'molte': 2,\n",
       " 'vanno': 2,\n",
       " 'vicenda': 1,\n",
       " 'ciascuna': 1,\n",
       " 'al': 10,\n",
       " 'giudizio': 1,\n",
       " 'dicono': 1,\n",
       " 'odono': 1,\n",
       " 'poi': 4,\n",
       " 'son': 3,\n",
       " 'tu': 5,\n",
       " 'vieni': 1,\n",
       " 'doloroso': 2,\n",
       " 'ospizio': 1,\n",
       " 'disse': 4,\n",
       " 'vide': 1,\n",
       " 'lasciando': 1,\n",
       " 'atto': 1,\n",
       " 'cotanto': 3,\n",
       " 'offizio': 1,\n",
       " 'guarda': 1,\n",
       " 'com': 2,\n",
       " 'entri': 1,\n",
       " 'cui': 4,\n",
       " 'fide': 1,\n",
       " 'non': 8,\n",
       " 'inganni': 1,\n",
       " 'ampiezza': 1,\n",
       " 'intrare': 1,\n",
       " 'duca': 1,\n",
       " 'mio': 2,\n",
       " 'perché': 1,\n",
       " 'pur': 1,\n",
       " 'gride': 1,\n",
       " 'impedir': 1,\n",
       " 'suo': 1,\n",
       " 'fatale': 1,\n",
       " 'andare': 1,\n",
       " 'vuolsi': 1,\n",
       " 'colà': 1,\n",
       " 'dove': 4,\n",
       " 'puote': 1,\n",
       " 'ciò': 2,\n",
       " 'vuole': 1,\n",
       " 'dimandare': 1,\n",
       " 'incomincian': 1,\n",
       " 'dolenti': 1,\n",
       " 'note': 1,\n",
       " 'farmisi': 1,\n",
       " 'sentire': 1,\n",
       " 'venuto': 1,\n",
       " 'molto': 1,\n",
       " 'pianto': 1,\n",
       " 'percuote': 1,\n",
       " 'io': 7,\n",
       " 'venni': 2,\n",
       " 'ogne': 1,\n",
       " 'luce': 1,\n",
       " 'muto': 1,\n",
       " 'mugghia': 1,\n",
       " 'come': 10,\n",
       " 'fa': 2,\n",
       " 'mar': 1,\n",
       " 'tempesta': 1,\n",
       " 'se': 2,\n",
       " 'contrari': 1,\n",
       " 'venti': 1,\n",
       " 'combattuto': 1,\n",
       " 'bufera': 1,\n",
       " 'infernal': 1,\n",
       " 'mai': 3,\n",
       " 'resta': 1,\n",
       " 'mena': 3,\n",
       " 'spirti': 1,\n",
       " 'sua': 3,\n",
       " 'rapina': 1,\n",
       " 'voltando': 1,\n",
       " 'percotendo': 1,\n",
       " 'molesta': 1,\n",
       " 'giungon': 1,\n",
       " 'davanti': 1,\n",
       " 'ruina': 1,\n",
       " 'quivi': 2,\n",
       " 'strida': 1,\n",
       " 'compianto': 1,\n",
       " 'lamento': 1,\n",
       " 'bestemmian': 1,\n",
       " 'virtù': 1,\n",
       " 'divina': 1,\n",
       " 'intesi': 2,\n",
       " 'fatto': 1,\n",
       " 'tormento': 1,\n",
       " 'enno': 1,\n",
       " 'dannati': 1,\n",
       " 'peccator': 1,\n",
       " 'carnali': 1,\n",
       " 'ragion': 1,\n",
       " 'sommettono': 1,\n",
       " 'talento': 1,\n",
       " 'stornei': 1,\n",
       " 'portan': 1,\n",
       " 'ali': 2,\n",
       " 'freddo': 1,\n",
       " 'tempo': 4,\n",
       " 'schiera': 2,\n",
       " 'larga': 1,\n",
       " 'piena': 1,\n",
       " 'fiato': 1,\n",
       " 'spiriti': 1,\n",
       " 'mali': 1,\n",
       " 'qua': 1,\n",
       " 'sù': 1,\n",
       " 'nulla': 1,\n",
       " 'speranza': 1,\n",
       " 'conforta': 1,\n",
       " 'posa': 1,\n",
       " 'ma': 4,\n",
       " 'minor': 1,\n",
       " 'pena': 1,\n",
       " 'gru': 1,\n",
       " 'van': 1,\n",
       " 'cantando': 1,\n",
       " 'lor': 2,\n",
       " 'lai': 1,\n",
       " 'faccendo': 1,\n",
       " 'aere': 4,\n",
       " 'sé': 1,\n",
       " 'lunga': 1,\n",
       " 'riga': 1,\n",
       " 'vid': 1,\n",
       " 'venir': 1,\n",
       " 'traendo': 1,\n",
       " 'guai': 1,\n",
       " 'ombre': 2,\n",
       " 'portate': 2,\n",
       " 'detta': 1,\n",
       " 'briga': 1,\n",
       " 'i': 3,\n",
       " 'dissi': 1,\n",
       " 'maestro': 1,\n",
       " 'chi': 3,\n",
       " 'quelle': 1,\n",
       " 'genti': 1,\n",
       " 'aura': 1,\n",
       " 'nera': 1,\n",
       " 'gastiga': 1,\n",
       " 'prima': 2,\n",
       " 'color': 1,\n",
       " 'novelle': 1,\n",
       " 'vuo': 1,\n",
       " 'saper': 1,\n",
       " 'quelli': 1,\n",
       " 'allotta': 1,\n",
       " 'fu': 7,\n",
       " 'imperadrice': 1,\n",
       " 'favelle': 1,\n",
       " 'vizio': 1,\n",
       " 'lussuria': 1,\n",
       " 'rotta': 1,\n",
       " 'libito': 1,\n",
       " 'fé': 1,\n",
       " 'licito': 1,\n",
       " 'legge': 2,\n",
       " 'tòrre': 1,\n",
       " 'biasmo': 1,\n",
       " 'era': 1,\n",
       " 'condotta': 1,\n",
       " 'el': 1,\n",
       " 'semiramìs': 1,\n",
       " 'succedette': 1,\n",
       " 'nino': 1,\n",
       " 'sposa': 1,\n",
       " 'tenne': 1,\n",
       " 'terra': 2,\n",
       " 'soldan': 1,\n",
       " 'corregge': 1,\n",
       " 'altra': 1,\n",
       " 'colei': 1,\n",
       " 's': 4,\n",
       " 'ancise': 1,\n",
       " 'amorosa': 1,\n",
       " 'ruppe': 1,\n",
       " 'fede': 1,\n",
       " 'cener': 1,\n",
       " 'sicheo': 1,\n",
       " 'cleopatràs': 1,\n",
       " 'lussuriosa': 1,\n",
       " 'elena': 1,\n",
       " 'vedi': 4,\n",
       " 'reo': 1,\n",
       " 'volse': 1,\n",
       " 'grande': 1,\n",
       " 'achille': 1,\n",
       " 'amore': 2,\n",
       " 'fine': 1,\n",
       " 'combatteo': 1,\n",
       " 'parìs': 1,\n",
       " 'tristano': 1,\n",
       " 'mille': 1,\n",
       " 'mostrommi': 1,\n",
       " 'nominommi': 1,\n",
       " 'dito': 1,\n",
       " 'amor': 7,\n",
       " 'nostra': 1,\n",
       " 'vita': 2,\n",
       " 'dipartille': 1,\n",
       " 'poscia': 1,\n",
       " 'ebbi': 1,\n",
       " 'dottore': 2,\n",
       " 'udito': 1,\n",
       " 'nomar': 1,\n",
       " 'donne': 1,\n",
       " 'antiche': 1,\n",
       " 'cavalieri': 1,\n",
       " 'pietà': 2,\n",
       " 'giunse': 1,\n",
       " 'fui': 2,\n",
       " 'quasi': 1,\n",
       " 'smarrito': 1,\n",
       " 'cominciai': 3,\n",
       " 'poeta': 2,\n",
       " 'volontieri': 1,\n",
       " 'parlerei': 1,\n",
       " 'quei': 1,\n",
       " 'due': 1,\n",
       " 'nsieme': 1,\n",
       " 'paion': 1,\n",
       " 'vento': 3,\n",
       " 'esser': 2,\n",
       " 'leggeri': 1,\n",
       " 'ed': 2,\n",
       " 'elli': 1,\n",
       " 'vedrai': 1,\n",
       " 'saranno': 1,\n",
       " 'presso': 1,\n",
       " 'noi': 9,\n",
       " 'allor': 1,\n",
       " 'priega': 1,\n",
       " 'quello': 1,\n",
       " 'ei': 1,\n",
       " 'verranno': 1,\n",
       " 'tosto': 1,\n",
       " 'piega': 1,\n",
       " 'mossi': 1,\n",
       " 'voce': 1,\n",
       " 'anime': 2,\n",
       " 'affannate': 1,\n",
       " 'venite': 1,\n",
       " 'parlar': 2,\n",
       " 'altri': 1,\n",
       " 'nol': 1,\n",
       " 'niega': 1,\n",
       " 'quali': 1,\n",
       " 'colombe': 1,\n",
       " 'dal': 2,\n",
       " 'disio': 2,\n",
       " 'chiamate': 1,\n",
       " 'alzate': 1,\n",
       " 'ferme': 1,\n",
       " 'dolce': 1,\n",
       " 'nido': 1,\n",
       " 'vegnon': 1,\n",
       " 'voler': 1,\n",
       " 'cotali': 1,\n",
       " 'uscir': 1,\n",
       " 'ov': 1,\n",
       " 'dido': 1,\n",
       " 'venendo': 1,\n",
       " 'maligno': 1,\n",
       " 'forte': 2,\n",
       " 'affettuoso': 1,\n",
       " 'grido': 1,\n",
       " 'animal': 1,\n",
       " 'grazioso': 1,\n",
       " 'benigno': 1,\n",
       " 'visitando': 1,\n",
       " 'vai': 1,\n",
       " 'perso': 1,\n",
       " 'tignemmo': 1,\n",
       " 'mondo': 1,\n",
       " 'sanguigno': 1,\n",
       " 'fosse': 1,\n",
       " 'amico': 1,\n",
       " 're': 1,\n",
       " 'universo': 1,\n",
       " 'pregheremmo': 1,\n",
       " 'tua': 1,\n",
       " 'pace': 2,\n",
       " 'c': 1,\n",
       " 'hai': 2,\n",
       " 'nostro': 2,\n",
       " 'perverso': 1,\n",
       " 'udire': 1,\n",
       " 'piace': 1,\n",
       " 'udiremo': 1,\n",
       " 'parleremo': 1,\n",
       " 'voi': 1,\n",
       " 'mentre': 2,\n",
       " 'ci': 5,\n",
       " 'tace': 1,\n",
       " 'siede': 1,\n",
       " 'marina': 1,\n",
       " 'po': 1,\n",
       " 'discende': 1,\n",
       " 'aver': 1,\n",
       " 'co': 1,\n",
       " 'seguaci': 1,\n",
       " 'sui': 1,\n",
       " 'cor': 1,\n",
       " 'gentil': 1,\n",
       " 'ratto': 1,\n",
       " 'apprende': 1,\n",
       " 'prese': 2,\n",
       " 'costui': 2,\n",
       " 'bella': 1,\n",
       " 'persona': 1,\n",
       " 'tolta': 1,\n",
       " 'modo': 1,\n",
       " 'ancor': 2,\n",
       " 'm': 2,\n",
       " 'offende': 1,\n",
       " 'nullo': 1,\n",
       " 'amato': 1,\n",
       " 'amar': 1,\n",
       " 'perdona': 1,\n",
       " 'piacer': 1,\n",
       " 'abbandona': 1,\n",
       " 'condusse': 1,\n",
       " 'ad': 1,\n",
       " 'una': 1,\n",
       " 'morte': 1,\n",
       " 'caina': 1,\n",
       " 'attende': 1,\n",
       " 'spense': 1,\n",
       " 'queste': 1,\n",
       " 'parole': 1,\n",
       " 'fuor': 1,\n",
       " 'porte': 1,\n",
       " 'quand': 1,\n",
       " 'offense': 1,\n",
       " 'china': 1,\n",
       " 'viso': 2,\n",
       " 'tenni': 1,\n",
       " 'basso': 1,\n",
       " 'fin': 1,\n",
       " 'pense': 1,\n",
       " 'rispuosi': 1,\n",
       " 'oh': 1,\n",
       " 'lasso': 1,\n",
       " 'quanti': 1,\n",
       " 'dolci': 2,\n",
       " 'pensier': 1,\n",
       " 'quanto': 1,\n",
       " 'menò': 1,\n",
       " 'costoro': 1,\n",
       " 'passo': 1,\n",
       " 'rivolsi': 1,\n",
       " 'loro': 1,\n",
       " 'parla': 1,\n",
       " 'francesca': 1,\n",
       " 'tuoi': 1,\n",
       " 'martìri': 1,\n",
       " 'lagrimar': 1,\n",
       " 'fanno': 1,\n",
       " 'tristo': 1,\n",
       " 'pio': 1,\n",
       " 'dimmi': 1,\n",
       " 'sospiri': 1,\n",
       " 'concedette': 1,\n",
       " 'conosceste': 1,\n",
       " 'dubbiosi': 1,\n",
       " 'disiri': 1,\n",
       " 'quella': 2,\n",
       " 'nessun': 1,\n",
       " 'maggior': 1,\n",
       " 'dolore': 1,\n",
       " 'ricordarsi': 1,\n",
       " 'felice': 1,\n",
       " 'miseria': 1,\n",
       " 'sa': 1,\n",
       " 'tuo': 1,\n",
       " 'a': 1,\n",
       " 'conoscer': 1,\n",
       " 'radice': 1,\n",
       " 'affetto': 1,\n",
       " 'dirò': 1,\n",
       " 'colui': 1,\n",
       " 'piange': 1,\n",
       " 'dice': 1,\n",
       " 'leggiavamo': 1,\n",
       " 'un': 2,\n",
       " 'giorno': 2,\n",
       " 'diletto': 1,\n",
       " 'lancialotto': 1,\n",
       " 'strinse': 1,\n",
       " 'soli': 1,\n",
       " 'eravamo': 1,\n",
       " 'sanza': 1,\n",
       " 'alcun': 1,\n",
       " 'sospetto': 1,\n",
       " 'fiate': 1,\n",
       " 'occhi': 1,\n",
       " 'sospinse': 1,\n",
       " 'lettura': 1,\n",
       " 'scolorocci': 1,\n",
       " 'solo': 1,\n",
       " 'punto': 1,\n",
       " 'vinse': 1,\n",
       " 'leggemmo': 2,\n",
       " 'disiato': 1,\n",
       " 'riso': 1,\n",
       " 'basciato': 1,\n",
       " 'amante': 1,\n",
       " 'questi': 1,\n",
       " 'fia': 1,\n",
       " 'diviso': 1,\n",
       " 'bocca': 1,\n",
       " 'basciò': 1,\n",
       " 'tutto': 1,\n",
       " 'tremante': 1,\n",
       " 'galeotto': 1,\n",
       " 'libro': 1,\n",
       " 'scrisse': 1,\n",
       " 'avante': 1,\n",
       " 'uno': 1,\n",
       " 'spirto': 1,\n",
       " 'questo': 1,\n",
       " 'altro': 1,\n",
       " 'piangea': 1,\n",
       " 'pietade': 1,\n",
       " 'morisse': 1,\n",
       " 'caddi': 1,\n",
       " 'corpo': 1,\n",
       " 'morto': 1,\n",
       " 'cade': 1}"
      ]
     },
     "execution_count": 19,
     "metadata": {},
     "output_type": "execute_result"
    }
   ],
   "source": [
    "def occorrenzeParole(lista):\n",
    "    mydict = {}\n",
    "    for word in lista:\n",
    "        if word in list(mydict.keys()):\n",
    "            mydict[word]+=1\n",
    "        else:\n",
    "            mydict[word]=1\n",
    "    \n",
    "    return mydict\n",
    "        \n",
    "occorrenzeParole(lista_parole)"
   ]
  },
  {
   "cell_type": "markdown",
   "metadata": {},
   "source": [
    "### Esercizio\n",
    "Realizzare una funzione che implementa il Caesar Cipher"
   ]
  },
  {
   "cell_type": "code",
   "execution_count": 4,
   "metadata": {},
   "outputs": [],
   "source": [
    "# Caesar Cipher\n",
    "\n",
    "alphabet = \"abcdefghijklmnopqrstuvwxyz \"\n",
    "def crypto (string, x):\n",
    "    st = \"\"\n",
    "    for s in string.lower():\n",
    "        t = alphabet.find(s)\n",
    "        t = (t + x) % 27\n",
    "        st += alphabet[t]\n",
    "    return st\n",
    "\n",
    "# Vigenerè Cipher\n",
    "\n",
    "def vigenere (string, chiave):\n",
    "    st = \"\"\n",
    "    i=0\n",
    "    for s in string.lower():\n",
    "        t = alphabet.find(s)\n",
    "        key_index = i % len(chiave) # posizione della lettera da usare\n",
    "        key = chiave[key_index]  # lettera da usare come chiave\n",
    "        x = alphabet.find(key)\n",
    "        # print(\"s, t, key_index, key, x\", s, t, key_index, key, x)\n",
    "        t = (t + x) % 27\n",
    "        st += alphabet[t]\n",
    "        i+=1\n",
    "    return st\n",
    "\n",
    "def vigenereReverse (string, chiave):\n",
    "    st = \"\"\n",
    "    i=0\n",
    "    for s in string.lower():\n",
    "        t = alphabet.find(s)\n",
    "        key_index = i % len(chiave) # posizione della lettera da usare\n",
    "        key = chiave[key_index]  # lettera da usare come chiave\n",
    "        x = alphabet.find(key)\n",
    "        # print(\"s, t, key_index, key, x\", s, t, key_index, key, x)\n",
    "        t = (t + 27 -  x) % 27\n",
    "        st += alphabet[t]\n",
    "        i+=1\n",
    "    return st"
   ]
  },
  {
   "cell_type": "code",
   "execution_count": 25,
   "metadata": {},
   "outputs": [],
   "source": [
    "plain = \"Che supersballo la maglietta dei cisco boys\""
   ]
  },
  {
   "cell_type": "code",
   "execution_count": 26,
   "metadata": {},
   "outputs": [
    {
     "name": "stdout",
     "output_type": "stream",
     "text": [
      "uzwrjlgwijtsccfrcsrdsyc wkksrvw ru jufrtfpj\n"
     ]
    }
   ],
   "source": [
    "print(crypto(plain, 18))"
   ]
  },
  {
   "cell_type": "code",
   "execution_count": 27,
   "metadata": {},
   "outputs": [
    {
     "name": "stdout",
     "output_type": "stream",
     "text": [
      "che supersballo la maglietta dei cisco boys\n"
     ]
    }
   ],
   "source": [
    "print(crypto(\"uzwrjlgwijtsccfrcsrdsyc wkksrvw ru jufrtfpj\", 9))"
   ]
  },
  {
   "cell_type": "code",
   "execution_count": 5,
   "metadata": {},
   "outputs": [
    {
     "name": "stdout",
     "output_type": "stream",
     "text": [
      "epwbfwxwtfdicnbb kwrkiignctrmspvwfl\n",
      "che supersballo studiare al kennedy\n"
     ]
    }
   ],
   "source": [
    "print(vigenere(\"che supersballo studiare al kennedy\", \"cisco\"))\n",
    "print(vigenereReverse(\"epwbfwxwtfdicnbb kwrkiignctrmspvwfl\", \"cisco\"))"
   ]
  },
  {
   "cell_type": "code",
   "execution_count": null,
   "metadata": {},
   "outputs": [],
   "source": []
  }
 ],
 "metadata": {
  "kernelspec": {
   "display_name": "Python 3",
   "language": "python",
   "name": "python3"
  },
  "language_info": {
   "codemirror_mode": {
    "name": "ipython",
    "version": 3
   },
   "file_extension": ".py",
   "mimetype": "text/x-python",
   "name": "python",
   "nbconvert_exporter": "python",
   "pygments_lexer": "ipython3",
   "version": "3.6.1"
  }
 },
 "nbformat": 4,
 "nbformat_minor": 2
}
